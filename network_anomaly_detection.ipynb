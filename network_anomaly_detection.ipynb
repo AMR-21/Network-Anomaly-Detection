{
  "metadata": {
    "kernelspec": {
      "language": "python",
      "display_name": "Python 3",
      "name": "python3"
    },
    "language_info": {
      "name": "python",
      "version": "3.7.12",
      "mimetype": "text/x-python",
      "codemirror_mode": {
        "name": "ipython",
        "version": 3
      },
      "pygments_lexer": "ipython3",
      "nbconvert_exporter": "python",
      "file_extension": ".py"
    },
    "colab": {
      "provenance": [],
      "include_colab_link": true
    }
  },
  "nbformat_minor": 0,
  "nbformat": 4,
  "cells": [
    {
      "cell_type": "markdown",
      "metadata": {
        "id": "view-in-github",
        "colab_type": "text"
      },
      "source": [
        "<a href=\"https://colab.research.google.com/github/AMR-21/Network-Anomaly-Detection/blob/main/network_anomaly_detection.ipynb\" target=\"_parent\"><img src=\"https://colab.research.google.com/assets/colab-badge.svg\" alt=\"Open In Colab\"/></a>"
      ]
    },
    {
      "cell_type": "markdown",
      "source": [
        "# Network Anomaly Detection"
      ],
      "metadata": {
        "id": "U8EPxUaTTDvc"
      }
    },
    {
      "cell_type": "markdown",
      "source": [
        "## Contributors\n",
        "\n",
        "#### Amr Yasser 6772\n",
        "#### Elhussein Sabri 6716\n",
        "#### Marwan Khaled 7020\n"
      ],
      "metadata": {
        "id": "5uWwgoaoTDvf"
      }
    },
    {
      "cell_type": "markdown",
      "source": [
        "## References \n",
        "[https://www.ecb.torontomu.ca/~bagheri/papers/cisda.pdf](Detailed Analysis of the KDD CUP 99 Data Set Mahbod Tavallaee, Ebrahim Bagheri, Wei Lu, and Ali A. Ghorban)\n",
        "https://www.kdnuggets.com/2020/04/dbscan-clustering-algorithm-machine-learning.html"
      ],
      "metadata": {
        "id": "bc5lI45STDvg"
      }
    },
    {
      "cell_type": "markdown",
      "source": [
        "## Download Datset \n",
        "\n",
        "You can Import data set from \n",
        "* [KDD CUP 1999 DATA](https://kdd.ics.uci.edu/databases/kddcup99/kddcup99.html)\n",
        "or Download it from kaggle"
      ],
      "metadata": {
        "id": "AE2kEUD3TDvg"
      }
    },
    {
      "cell_type": "markdown",
      "source": [
        "### Imports"
      ],
      "metadata": {
        "id": "8cMHbrvtTDvh"
      }
    },
    {
      "cell_type": "code",
      "source": [
        "import os\n",
        "from time import time\n",
        "\n",
        "# Import the necessary libraries\n",
        "import numpy as np\n",
        "import pandas as pd\n",
        "import matplotlib.pyplot as plt\n",
        "import gzip\n",
        "from sklearn.preprocessing import MinMaxScaler\n",
        "from sklearn.neighbors import kneighbors_graph as knn\n",
        "from sklearn.metrics.pairwise import rbf_kernel as rbf\n",
        "from sklearn.model_selection import train_test_split\n",
        "from sklearn.preprocessing import Normalizer\n",
        "from sklearn.metrics.cluster import contingency_matrix\n",
        "from sklearn.preprocessing import LabelEncoder\n",
        "from scipy.stats import entropy\n",
        "from tabulate import tabulate\n",
        "from sklearn.cluster import kmeans_plusplus"
      ],
      "metadata": {
        "execution": {
          "iopub.status.busy": "2023-03-29T21:29:32.220482Z",
          "iopub.execute_input": "2023-03-29T21:29:32.220946Z",
          "iopub.status.idle": "2023-03-29T21:29:32.229217Z",
          "shell.execute_reply.started": "2023-03-29T21:29:32.220908Z",
          "shell.execute_reply": "2023-03-29T21:29:32.227807Z"
        },
        "trusted": true,
        "id": "pLElU1CbTDvh"
      },
      "execution_count": 1,
      "outputs": []
    },
    {
      "cell_type": "markdown",
      "source": [
        "## CoLab"
      ],
      "metadata": {
        "id": "0A32uHiG5Ea3"
      }
    },
    {
      "cell_type": "code",
      "source": [
        "from google.colab import drive\n",
        "\n",
        "# mount drive\n",
        "drive.mount('/content/drive')\n",
        "\n",
        "path_train = '/content/drive/MyDrive/Network Anomaly Detection/kddcup.data_10_percent.gz'\n",
        "path_test = '/content/drive/MyDrive/Network Anomaly Detection/corrected.gz'\n",
        "path_all = '/content/drive/MyDrive/Network Anomaly Detection/kddcup.data.gz'"
      ],
      "metadata": {
        "colab": {
          "base_uri": "https://localhost:8080/"
        },
        "id": "t6j-RReGTcSt",
        "outputId": "c2562707-48f5-4488-af79-9407b1dc0553"
      },
      "execution_count": 2,
      "outputs": [
        {
          "output_type": "stream",
          "name": "stdout",
          "text": [
            "Mounted at /content/drive\n"
          ]
        }
      ]
    },
    {
      "cell_type": "markdown",
      "source": [
        "## Kaggle"
      ],
      "metadata": {
        "id": "RxurXjcJ5Hsf"
      }
    },
    {
      "cell_type": "code",
      "source": [
        "path_train = ''\n",
        "path_test = ''"
      ],
      "metadata": {
        "id": "w9-CuH3G5JCc"
      },
      "execution_count": null,
      "outputs": []
    },
    {
      "cell_type": "markdown",
      "source": [
        "### Utils"
      ],
      "metadata": {
        "id": "dO32WtakTDvi"
      }
    },
    {
      "cell_type": "code",
      "source": [
        "def plot(x,y,title):\n",
        "    plt.figure(figsize=(8,6))\n",
        "    plt.bar(x,y)\n",
        "    plt.title(title)\n",
        "    plt.xlabel('Clusters')\n",
        "    plt.ylabel('Counts')\n",
        "    plt.show()\n",
        "\n",
        "def analyze(model,ground_truth,pred,k):\n",
        "    print(f'K-Means at k = {model.n_clusters} after {model.execution_time}s:\\n')\n",
        "    labels , counts = np.unique(model.labels,return_counts=True)\n",
        "    plot(labels,counts,f'Clustering counts at k = {model.n_clusters} after {model.iterations} iterations')\n",
        "\n",
        "    labels, counts = np.unique(pred,return_counts = True)\n",
        "\n",
        "    precisions,recalls,fscores = accuracy_scores(ground_truth,pred)\n",
        "    data = []\n",
        "    dist = []\n",
        "    for i in range(k):\n",
        "      dist.append([i,counts[i]])\n",
        "      data.append([i,precisions[i],recalls[i],fscores[i]])\n",
        "\n",
        "    print(\"\\nClusters distribution\")\n",
        "    print(f'{tabulate(dist, headers=[\"Cluster\", \"Samples\"],tablefmt=\"psql\")}')\n",
        "    \n",
        "    print(\"\\nAccuracy measures\")\n",
        "    print(f'{tabulate(data, headers=[\"Cluster\", \"Precision\", \"Recall\", \"F-Score\"],tablefmt=\"psql\")}')\n",
        "    print(f'\\nF1-Score: {np.sum(fscores/k)}')\n",
        "    print(f'Clustering conditional entropy: {conditional_entropy(ground_truth,pred)}')\n",
        "\n",
        "\n",
        "def cluster(k,init='++',mode='kmeans',sim='nn',nn=10,gamma=1.0):\n",
        "  if mode == 'kmeans':\n",
        "    model = KMeans(n_clusters = k,init = init).fit(train)\n",
        "    pred = model.predict(test)\n",
        "    analyze(model,ground_truth,pred,k)\n",
        "\n",
        "  elif mode == 'spectral':\n",
        "    model = NCut(trainN,k, similarity=sim, nn=nn, gamma=gamma)\n",
        "    analyze(model,ground_truthN,model.labels,k)"
      ],
      "metadata": {
        "execution": {
          "iopub.status.busy": "2023-03-29T21:30:07.271895Z",
          "iopub.execute_input": "2023-03-29T21:30:07.272318Z",
          "iopub.status.idle": "2023-03-29T21:30:07.280219Z",
          "shell.execute_reply.started": "2023-03-29T21:30:07.272282Z",
          "shell.execute_reply": "2023-03-29T21:30:07.279283Z"
        },
        "trusted": true,
        "id": "2AhR9dDMTDvi"
      },
      "execution_count": 3,
      "outputs": []
    },
    {
      "cell_type": "markdown",
      "source": [
        "# K-Means Implemenetation"
      ],
      "metadata": {
        "id": "QRDkJXK7TDvj"
      }
    },
    {
      "cell_type": "code",
      "source": [
        "# Define the K-Means algorithm\n",
        "class KMeans:\n",
        "    def __init__(self,n_clusters=3, init='++', max_iter=300,centroids=[]):\n",
        "        self.n_clusters = n_clusters\n",
        "        self.max_iter = max_iter\n",
        "        self.init = init\n",
        "        self.centroids = np.array(centroids)\n",
        "        self.iterations = 0\n",
        "    \n",
        "    def fit(self,train,random_state = None):\n",
        "        start = time()\n",
        "\n",
        "        # Initialize centroids randomly\n",
        "        if len(self.centroids) == 0:\n",
        "          if self.init == '++':\n",
        "            self.centroids, indices = kmeans_plusplus(train, n_clusters=self.n_clusters,random_state = random_state)\n",
        "          elif self.init == 'random':\n",
        "            self.centroids = np.array(train[np.random.choice(train.shape[0], self.n_clusters, replace=False)])   \n",
        "          else:\n",
        "            print('Init method not applicable')\n",
        "            return\n",
        "        \n",
        "        prev_centroids = np.zeros(self.centroids.shape)\n",
        "        self.labels = np.zeros(len(train),dtype='int8')\n",
        "\n",
        "        while np.not_equal(self.centroids, prev_centroids).any() and self.iterations < self.max_iter:\n",
        "            prev_centroids = self.centroids.copy()\n",
        "\n",
        "            # Assign each point to the closest centroid\n",
        "            distances = np.sqrt(((train - self.centroids[:, np.newaxis])**2).sum(axis=2))\n",
        "            self.labels = np.argmin(distances, axis=0)\n",
        "\n",
        "            # Update centroids\n",
        "            for i in range(self.n_clusters):\n",
        "                points = train[self.labels == i]\n",
        "                if len(points) > 0:\n",
        "                  self.centroids[i] = np.mean(points, axis=0)\n",
        "\n",
        "            # Catch any np.nans, resulting from a centroid having no points\n",
        "            for i, centroid in enumerate(self.centroids):\n",
        "                if np.isnan(centroid).any():  \n",
        "                    self.centroids[i] = prev_centroids[i]\n",
        "            \n",
        "            self.iterations += 1\n",
        "\n",
        "        end = time()\n",
        "        self.execution_time = end - start\n",
        "        \n",
        "        return self\n",
        "    \n",
        "    def predict(self,X):\n",
        "        predicted = []\n",
        "        distances = np.sqrt(((X - self.centroids[:, np.newaxis])**2).sum(axis=2))\n",
        "        predicted = np.argmin(distances, axis=0)\n",
        "        return np.array(predicted)"
      ],
      "metadata": {
        "execution": {
          "iopub.status.busy": "2023-03-29T21:31:29.586678Z",
          "iopub.execute_input": "2023-03-29T21:31:29.587105Z",
          "iopub.status.idle": "2023-03-29T21:31:29.598756Z",
          "shell.execute_reply.started": "2023-03-29T21:31:29.587068Z",
          "shell.execute_reply": "2023-03-29T21:31:29.597357Z"
        },
        "trusted": true,
        "id": "HZruLFMpTDvj"
      },
      "execution_count": 4,
      "outputs": []
    },
    {
      "cell_type": "markdown",
      "source": [
        "# Normalized Cuts Implementation"
      ],
      "metadata": {
        "id": "qE9VbWcKTDvl"
      }
    },
    {
      "cell_type": "code",
      "source": [
        "# Define the Normalized Cuts algorithm\n",
        "def NCut(train, k, nn=10, similarity= 'nn', gamma=1.0):\n",
        "    # Compute the similarity matrix\n",
        "    if similarity == 'nn':\n",
        "      sim = knn(train,nn,mode='connectivity').toarray()\n",
        "      A = sim + sim.T\n",
        "    elif similarity == 'rbf':\n",
        "      sim = rbf(train,train,gamma)\n",
        "      A = sim\n",
        "    else:\n",
        "      print('Similarity method not applicable')\n",
        "      return\n",
        "\n",
        "    # Compute the diagonal degree matrix\n",
        "    D = np.diag(np.sum(sim, axis=1)) \n",
        "\n",
        "    # Compute the Laplacian matrix\n",
        "    L = D - A\n",
        "\n",
        "    B = np.dot(np.linalg.inv(D),L)\n",
        "\n",
        "    eigenvalues,eigenvectors = np.linalg.eigh(B)\n",
        "\n",
        "    U = eigenvectors[:,:k]\n",
        "\n",
        "    Y = Normalizer().fit_transform(U)\n",
        "    \n",
        "    # Cluster the normalized eigenvectors using K-Means\n",
        "    model = KMeans(n_clusters = k).fit(Y)\n",
        "\n",
        "    return model"
      ],
      "metadata": {
        "execution": {
          "iopub.status.busy": "2023-03-29T14:56:17.216728Z",
          "iopub.execute_input": "2023-03-29T14:56:17.217902Z",
          "iopub.status.idle": "2023-03-29T14:56:17.228375Z",
          "shell.execute_reply.started": "2023-03-29T14:56:17.217840Z",
          "shell.execute_reply": "2023-03-29T14:56:17.227119Z"
        },
        "trusted": true,
        "id": "kzvEyRCWTDvl"
      },
      "execution_count": 5,
      "outputs": []
    },
    {
      "cell_type": "markdown",
      "source": [
        "# Evaluation Implementation"
      ],
      "metadata": {
        "id": "7_drYBHB5vPs"
      }
    },
    {
      "cell_type": "code",
      "source": [
        "# Conditional Entropy\n",
        "def conditional_entropy(ground_truth,clusters):\n",
        "  con = contingency_matrix(ground_truth,clusters)\n",
        "\n",
        "  clusters_entropies = []\n",
        "\n",
        "  for cluster in con.T:\n",
        "    pT = cluster/np.sum(cluster)\n",
        "    clusters_entropies.append((np.sum(cluster)/len(ground_truth)) * entropy(pT,base=2))\n",
        "  \n",
        "  return np.sum(clusters_entropies)\n",
        "\n",
        "# Precision, Recall, F1-Score\n",
        "def accuracy_scores(ground_truth,clusters):\n",
        "  con = contingency_matrix(ground_truth,clusters)\n",
        "\n",
        "  labels , counts = np.unique(ground_truth,return_counts=True)\n",
        "  n_clusters = len(np.unique(clusters))\n",
        "  precision = []\n",
        "  recall = []\n",
        "  for cluster in con.T:\n",
        "    precision.append(cluster.max()/cluster.sum())\n",
        "    label = np.argmax(cluster)\n",
        "    recall.append(cluster[label]/counts[label])\n",
        "  \n",
        "  precision = np.array(precision)\n",
        "  recall = np.array(recall)\n",
        "  \n",
        "  return precision,recall,(2*precision*recall)/(precision+recall)"
      ],
      "metadata": {
        "id": "6quIIak-5zGl"
      },
      "execution_count": 7,
      "outputs": []
    },
    {
      "cell_type": "markdown",
      "source": [
        "# Extracting Data and formatting"
      ],
      "metadata": {
        "id": "v0m9HBGNTDvm"
      }
    },
    {
      "cell_type": "code",
      "source": [
        "# Open and read the compressed data file using gzip\n",
        "with gzip.open(path_train, 'rb') as f:\n",
        "    train_data = pd.read_csv(f, header=None)\n",
        "    \n",
        "\n",
        "with gzip.open(path_test, 'rb') as f:\n",
        "    test_data = pd.read_csv(f, header=None)\n",
        "    \n",
        "with gzip.open(path_all, 'rb') as f:\n",
        "    train_all_data = pd.read_csv(f, header=None)\n",
        "\n",
        "# Add column names to the DataFrame\n",
        "cols = [\n",
        "    \"duration\", \"protocol_type\", \"service\", \"flag\", \"src_bytes\",\n",
        "    \"dst_bytes\", \"land\", \"wrong_fragment\", \"urgent\", \"hot\",\n",
        "    \"num_failed_logins\", \"logged_in\", \"num_compromised\", \"root_shell\",\n",
        "    \"su_attempted\", \"num_root\", \"num_file_creations\", \"num_shells\",\n",
        "    \"num_access_files\", \"num_outbound_cmds\", \"is_host_login\",\n",
        "    \"is_guest_login\", \"count\", \"srv_count\", \"serror_rate\",\n",
        "    \"srv_serror_rate\", \"rerror_rate\", \"srv_rerror_rate\", \"same_srv_rate\",\n",
        "    \"diff_srv_rate\", \"srv_diff_host_rate\", \"dst_host_count\",\n",
        "    \"dst_host_srv_count\", \"dst_host_same_srv_rate\",\n",
        "    \"dst_host_diff_srv_rate\", \"dst_host_same_src_port_rate\",\n",
        "    \"dst_host_srv_diff_host_rate\", \"dst_host_serror_rate\",\n",
        "    \"dst_host_srv_serror_rate\", \"dst_host_rerror_rate\",\n",
        "    \"dst_host_srv_rerror_rate\", \"label\"\n",
        "]\n",
        "\n",
        "\n",
        "train_data.columns  = cols\n",
        "test_data.columns= cols\n",
        "train_all_data.columns = cols\n",
        "\n",
        "# removing the 2 samples with service = icmp as they do not match in train data\n",
        "test_data = test_data[test_data.service != 'icmp']\n",
        "\n",
        "ground_truth = LabelEncoder().fit_transform(test_data['label'])\n",
        "\n",
        "\n",
        "train_data.drop('label',axis=1,inplace=True)\n",
        "test_data.drop('label',axis=1,inplace=True)\n",
        "\n",
        "train_all_y = train_all_data['label']\n",
        "train_all_data.drop('label',axis=1,inplace=True)\n",
        "\n",
        "trainN,_,trainN_y,_ = train_test_split(train_all_data,train_all_y,train_size=0.0025, random_state = 42, stratify = train_all_y)\n",
        "ground_truthN = LabelEncoder().fit_transform(trainN_y)\n"
      ],
      "metadata": {
        "execution": {
          "iopub.status.busy": "2023-03-29T21:25:21.341004Z",
          "iopub.execute_input": "2023-03-29T21:25:21.341528Z",
          "iopub.status.idle": "2023-03-29T21:25:23.901750Z",
          "shell.execute_reply.started": "2023-03-29T21:25:21.341490Z",
          "shell.execute_reply": "2023-03-29T21:25:23.900482Z"
        },
        "trusted": true,
        "id": "LrKMpvvBTDvm"
      },
      "execution_count": 8,
      "outputs": []
    },
    {
      "cell_type": "markdown",
      "source": [
        "### Pre Processing\n"
      ],
      "metadata": {
        "id": "-ET15PUwTDvn"
      }
    },
    {
      "cell_type": "code",
      "source": [
        "# Convert categorical features to numerical features\n",
        "train_categorical_columns = train_data.select_dtypes(include=['object']).columns\n",
        "\n",
        "for col in train_categorical_columns:\n",
        "    le = LabelEncoder().fit(train_data[col])\n",
        "\n",
        "    train_data[col] = le.transform(train_data[col])\n",
        "    test_data[col] = le.transform(test_data[col])\n",
        "    trainN[col] = LabelEncoder().fit_transform(trainN[col])\n",
        "\n",
        "\n",
        "scaler = MinMaxScaler().fit(train_data)\n",
        "\n",
        "train = scaler.transform(train_data)\n",
        "test = scaler.transform(test_data)\n"
      ],
      "metadata": {
        "execution": {
          "iopub.status.busy": "2023-03-29T14:57:22.649047Z",
          "iopub.execute_input": "2023-03-29T14:57:22.650194Z"
        },
        "trusted": true,
        "id": "RV91lzk7TDvn"
      },
      "execution_count": 9,
      "outputs": []
    },
    {
      "cell_type": "markdown",
      "source": [
        "# Clustering Using K-Means"
      ],
      "metadata": {
        "id": "cq3xhqrITDvn"
      }
    },
    {
      "cell_type": "code",
      "source": [
        "# kmeans clustering with k = 7\n",
        "cluster(7)"
      ],
      "metadata": {
        "colab": {
          "base_uri": "https://localhost:8080/",
          "height": 1000
        },
        "id": "nbKkUAI8Q53J",
        "outputId": "50d8b7b8-5733-4259-9ab0-54ac4b158186"
      },
      "execution_count": null,
      "outputs": [
        {
          "output_type": "stream",
          "name": "stdout",
          "text": [
            "K-Means at k = 7 after 19.846527338027954s:\n",
            "\n"
          ]
        },
        {
          "output_type": "display_data",
          "data": {
            "text/plain": [
              "<Figure size 800x600 with 1 Axes>"
            ],
            "image/png": "[encoded data removed]"
          },
          "metadata": {}
        },
        {
          "output_type": "stream",
          "name": "stdout",
          "text": [
            "\n",
            "Clusters distribution\n",
            "+-----------+-----------+\n",
            "|   Cluster |   Samples |\n",
            "|-----------+-----------|\n",
            "|         0 |     47738 |\n",
            "|         1 |    164704 |\n",
            "|         2 |     18174 |\n",
            "|         3 |     43466 |\n",
            "|         4 |     29153 |\n",
            "|         5 |       480 |\n",
            "|         6 |      7312 |\n",
            "+-----------+-----------+\n",
            "\n",
            "Accuracy measures\n",
            "+-----------+-------------+----------+-----------+\n",
            "|   Cluster |   Precision |   Recall |   F-Score |\n",
            "|-----------+-------------+----------+-----------|\n",
            "|         0 |    0.798965 | 0.629483 |  0.70417  |\n",
            "|         1 |    0.996084 | 0.999805 |  0.997941 |\n",
            "|         2 |    0.960438 | 0.300943 |  0.458287 |\n",
            "|         3 |    0.932798 | 0.69904  |  0.799176 |\n",
            "|         4 |    0.580695 | 0.279398 |  0.377273 |\n",
            "|         5 |    0.55     | 0.332494 |  0.414443 |\n",
            "|         6 |    0.649754 | 0.078411 |  0.139935 |\n",
            "+-----------+-------------+----------+-----------+\n",
            "\n",
            "F1-Score: 0.5558891910851097\n",
            "Clustering conditional entropy: 0.4724252038768968\n"
          ]
        }
      ]
    },
    {
      "cell_type": "code",
      "source": [
        "# kmeans clustering with k = 15\n",
        "cluster(15)"
      ],
      "metadata": {
        "colab": {
          "base_uri": "https://localhost:8080/",
          "height": 1000
        },
        "id": "pBqCOG0aaA3j",
        "outputId": "8b5ec26d-5828-46d1-b9bb-4c4eb9959fb1"
      },
      "execution_count": null,
      "outputs": [
        {
          "output_type": "stream",
          "name": "stdout",
          "text": [
            "K-Means at k = 15 after 26.537365198135376s:\n",
            "\n"
          ]
        },
        {
          "output_type": "display_data",
          "data": {
            "text/plain": [
              "<Figure size 800x600 with 1 Axes>"
            ],
            "image/png": "[encoded data removed]"
          },
          "metadata": {}
        },
        {
          "output_type": "stream",
          "name": "stdout",
          "text": [
            "\n",
            "Clusters distribution\n",
            "+-----------+-----------+\n",
            "|   Cluster |   Samples |\n",
            "|-----------+-----------|\n",
            "|         0 |     19585 |\n",
            "|         1 |    164523 |\n",
            "|         2 |     18026 |\n",
            "|         3 |     41318 |\n",
            "|         4 |       596 |\n",
            "|         5 |      1519 |\n",
            "|         6 |     25666 |\n",
            "|         7 |       424 |\n",
            "|         8 |      2030 |\n",
            "|         9 |      3549 |\n",
            "|        10 |      2717 |\n",
            "|        11 |     26653 |\n",
            "|        12 |      2197 |\n",
            "|        13 |      1803 |\n",
            "|        14 |       421 |\n",
            "+-----------+-----------+\n",
            "\n",
            "Accuracy measures\n",
            "+-----------+-------------+-----------+-----------+\n",
            "|   Cluster |   Precision |    Recall |   F-Score |\n",
            "|-----------+-------------+-----------+-----------|\n",
            "|         0 |    1        | 0.323233  | 0.48855   |\n",
            "|         1 |    0.996086 | 0.998708  | 0.997395  |\n",
            "|         2 |    0.968268 | 0.300926  | 0.459153  |\n",
            "|         3 |    0.981146 | 0.698936  | 0.816339  |\n",
            "|         4 |    0.689597 | 0.251684  | 0.368775  |\n",
            "|         5 |    0.938117 | 0.0235183 | 0.0458863 |\n",
            "|         6 |    0.568339 | 0.240745  | 0.338222  |\n",
            "|         7 |    0.492925 | 0.263224  | 0.343186  |\n",
            "|         8 |    0.997044 | 0.0334043 | 0.0646429 |\n",
            "|         9 |    0.688926 | 0.0403525 | 0.0762395 |\n",
            "|        10 |    0.709238 | 0.0318034 | 0.060877  |\n",
            "|        11 |    0.643005 | 0.282847  | 0.392875  |\n",
            "|        12 |    0.43969  | 0.602996  | 0.508555  |\n",
            "|        13 |    0.668331 | 0.737906  | 0.701397  |\n",
            "|        14 |    0.743468 | 0.884181  | 0.807742  |\n",
            "+-----------+-------------+-----------+-----------+\n",
            "\n",
            "F1-Score: 0.43132229650881027\n",
            "Clustering conditional entropy: 0.3718986117052112\n"
          ]
        }
      ]
    },
    {
      "cell_type": "code",
      "source": [
        "# kmeans clustering with k = 23\n",
        "cluster(23)"
      ],
      "metadata": {
        "colab": {
          "base_uri": "https://localhost:8080/",
          "height": 1000
        },
        "id": "_32sun5Ybq0G",
        "outputId": "bd2fc01d-84c0-4d27-98d8-9287b8930ff2"
      },
      "execution_count": null,
      "outputs": [
        {
          "output_type": "stream",
          "name": "stdout",
          "text": [
            "K-Means at k = 23 after 187.69003057479858s:\n",
            "\n"
          ]
        },
        {
          "output_type": "display_data",
          "data": {
            "text/plain": [
              "<Figure size 800x600 with 1 Axes>"
            ],
            "image/png": "[encoded data removed]"
          },
          "metadata": {}
        },
        {
          "output_type": "stream",
          "name": "stdout",
          "text": [
            "\n",
            "Clusters distribution\n",
            "+-----------+-----------+\n",
            "|   Cluster |   Samples |\n",
            "|-----------+-----------|\n",
            "|         0 |    164609 |\n",
            "|         1 |     12230 |\n",
            "|         2 |     25895 |\n",
            "|         3 |     41233 |\n",
            "|         4 |       593 |\n",
            "|         5 |     13871 |\n",
            "|         6 |       269 |\n",
            "|         7 |     22851 |\n",
            "|         8 |       398 |\n",
            "|         9 |      2204 |\n",
            "|        10 |      1880 |\n",
            "|        11 |       651 |\n",
            "|        12 |      7166 |\n",
            "|        13 |       419 |\n",
            "|        14 |        46 |\n",
            "|        15 |      1803 |\n",
            "|        16 |      5809 |\n",
            "|        17 |      2094 |\n",
            "|        18 |       577 |\n",
            "|        19 |      2798 |\n",
            "|        20 |       617 |\n",
            "|        21 |       260 |\n",
            "|        22 |      2754 |\n",
            "+-----------+-----------+\n",
            "\n",
            "Accuracy measures\n",
            "+-----------+-------------+-------------+------------+\n",
            "|   Cluster |   Precision |      Recall |    F-Score |\n",
            "|-----------+-------------+-------------+------------|\n",
            "|         0 |    0.996082 | 0.999226    | 0.997651   |\n",
            "|         1 |    0.95233  | 0.200807    | 0.331677   |\n",
            "|         2 |    0.631589 | 0.269925    | 0.378212   |\n",
            "|         3 |    0.983169 | 0.698936    | 0.817039   |\n",
            "|         4 |    0.693086 | 0.251684    | 0.369272   |\n",
            "|         5 |    1        | 0.228928    | 0.372566   |\n",
            "|         6 |    0.840149 | 0.284635    | 0.425212   |\n",
            "|         7 |    0.522647 | 0.197108    | 0.286259   |\n",
            "|         8 |    0.344221 | 0.447712    | 0.389205   |\n",
            "|         9 |    0.992287 | 0.0360945   | 0.0696552  |\n",
            "|        10 |    0.515426 | 0.604869    | 0.556577   |\n",
            "|        11 |    0.817204 | 0.332085    | 0.472259   |\n",
            "|        12 |    1        | 0.118268    | 0.211521   |\n",
            "|        13 |    0.747017 | 0.884181    | 0.809832   |\n",
            "|        14 |    0.804348 | 0.000610652 | 0.00122038 |\n",
            "|        15 |    0.668331 | 0.737906    | 0.701397   |\n",
            "|        16 |    0.999656 | 0.100119    | 0.182009   |\n",
            "|        17 |    0.674785 | 0.0233203   | 0.0450826  |\n",
            "|        18 |    0.616984 | 0.00587546  | 0.0116401  |\n",
            "|        19 |    0.863474 | 0.0398739   | 0.0762277  |\n",
            "|        20 |    0.852512 | 0.00868116  | 0.0171873  |\n",
            "|        21 |    0.969231 | 0.239316    | 0.383854   |\n",
            "|        22 |    0.939361 | 0.0426961   | 0.0816797  |\n",
            "+-----------+-------------+-------------+------------+\n",
            "\n",
            "F1-Score: 0.34727097343122343\n",
            "Clustering conditional entropy: 0.346937629587989\n"
          ]
        }
      ]
    },
    {
      "cell_type": "code",
      "source": [
        "# kmeans clustering with k = 31\n",
        "cluster(31)"
      ],
      "metadata": {
        "colab": {
          "base_uri": "https://localhost:8080/",
          "height": 1000
        },
        "id": "-JuCqNT7btCe",
        "outputId": "acdd2e80-1490-4943-b673-7a4562bf04c7"
      },
      "execution_count": null,
      "outputs": [
        {
          "output_type": "stream",
          "name": "stdout",
          "text": [
            "K-Means at k = 31 after 123.22605752944946s:\n",
            "\n"
          ]
        },
        {
          "output_type": "display_data",
          "data": {
            "text/plain": [
              "<Figure size 800x600 with 1 Axes>"
            ],
            "image/png": "[encoded data removed]"
          },
          "metadata": {}
        },
        {
          "output_type": "stream",
          "name": "stdout",
          "text": [
            "\n",
            "Clusters distribution\n",
            "+-----------+-----------+\n",
            "|   Cluster |   Samples |\n",
            "|-----------+-----------|\n",
            "|         0 |    164567 |\n",
            "|         1 |      3860 |\n",
            "|         2 |      6318 |\n",
            "|         3 |     21135 |\n",
            "|         4 |     22818 |\n",
            "|         5 |        87 |\n",
            "|         6 |      2012 |\n",
            "|         7 |     25627 |\n",
            "|         8 |      1624 |\n",
            "|         9 |        24 |\n",
            "|        10 |       725 |\n",
            "|        11 |     13144 |\n",
            "|        12 |       843 |\n",
            "|        13 |       248 |\n",
            "|        14 |       412 |\n",
            "|        15 |     20076 |\n",
            "|        16 |       857 |\n",
            "|        17 |      1692 |\n",
            "|        18 |      2269 |\n",
            "|        19 |       235 |\n",
            "|        20 |     11461 |\n",
            "|        21 |      1823 |\n",
            "|        22 |       182 |\n",
            "|        23 |        46 |\n",
            "|        24 |      1798 |\n",
            "|        25 |      2114 |\n",
            "|        26 |      2658 |\n",
            "|        27 |       650 |\n",
            "|        28 |       231 |\n",
            "|        29 |       920 |\n",
            "|        30 |       571 |\n",
            "+-----------+-----------+\n",
            "\n",
            "Accuracy measures\n",
            "+-----------+-------------+-------------+-------------+\n",
            "|   Cluster |   Precision |      Recall |     F-Score |\n",
            "|-----------+-------------+-------------+-------------|\n",
            "|         0 |    0.996081 | 0.99897     | 0.997523    |\n",
            "|         1 |    1        | 0.0665506   | 0.124796    |\n",
            "|         2 |    1        | 0.104273    | 0.188854    |\n",
            "|         3 |    0.967542 | 0.352563    | 0.516807    |\n",
            "|         4 |    0.522833 | 0.196894    | 0.28606     |\n",
            "|         5 |    0.390805 | 0.0322887   | 0.0596491   |\n",
            "|         6 |    0.670477 | 0.022264    | 0.043097    |\n",
            "|         7 |    0.630273 | 0.266574    | 0.374678    |\n",
            "|         8 |    0.990148 | 0.0265386   | 0.0516917   |\n",
            "|         9 |    0.708333 | 0.00028057  | 0.000560917 |\n",
            "|        10 |    0.982069 | 0.0117509   | 0.023224    |\n",
            "|        11 |    1        | 0.21693     | 0.35652     |\n",
            "|        12 |    0.903915 | 0.0125761   | 0.0248071   |\n",
            "|        13 |    0.806452 | 0.00330082  | 0.00657473  |\n",
            "|        14 |    0.747573 | 0.870056    | 0.804178    |\n",
            "|        15 |    1        | 0.346132    | 0.514262    |\n",
            "|        16 |    0.350058 | 0.980392    | 0.515907    |\n",
            "|        17 |    0.667849 | 0.691978    | 0.679699    |\n",
            "|        18 |    0.744381 | 0.0278754   | 0.0537385   |\n",
            "|        19 |    0.974468 | 0.288413    | 0.445092    |\n",
            "|        20 |    0.950353 | 0.18779     | 0.31361     |\n",
            "|        21 |    0.906199 | 0.0272648   | 0.0529368   |\n",
            "|        22 |    0.450549 | 0.0502143   | 0.0903581   |\n",
            "|        23 |    0.804348 | 0.000610652 | 0.00122038  |\n",
            "|        24 |    0.517241 | 0.580524    | 0.547059    |\n",
            "|        25 |    1        | 0.0348897   | 0.0674268   |\n",
            "|        26 |    1        | 0.0458268   | 0.0876374   |\n",
            "|        27 |    0.816923 | 0.331461    | 0.471581    |\n",
            "|        28 |    0.965368 | 0.211776    | 0.347352    |\n",
            "|        29 |    0.988043 | 0.0150022   | 0.0295557   |\n",
            "|        30 |    0.721541 | 0.252296    | 0.373866    |\n",
            "+-----------+-------------+-------------+-------------+\n",
            "\n",
            "F1-Score: 0.27259101240866135\n",
            "Clustering conditional entropy: 0.34331698088169327\n"
          ]
        }
      ]
    },
    {
      "cell_type": "code",
      "source": [
        "# kmeans clustering with k = 45\n",
        "cluster(45)"
      ],
      "metadata": {
        "colab": {
          "base_uri": "https://localhost:8080/",
          "height": 1000
        },
        "id": "tKJMjFflbvgi",
        "outputId": "66938736-6013-4fa9-fb5c-5dbb0e986a3c"
      },
      "execution_count": null,
      "outputs": [
        {
          "output_type": "stream",
          "name": "stdout",
          "text": [
            "K-Means at k = 45 after 220.23847556114197s:\n",
            "\n"
          ]
        },
        {
          "output_type": "display_data",
          "data": {
            "text/plain": [
              "<Figure size 800x600 with 1 Axes>"
            ],
            "image/png": "[encoded data removed]"
          },
          "metadata": {}
        },
        {
          "output_type": "stream",
          "name": "stdout",
          "text": [
            "\n",
            "Clusters distribution\n",
            "+-----------+-----------+\n",
            "|   Cluster |   Samples |\n",
            "|-----------+-----------|\n",
            "|         0 |     24344 |\n",
            "|         1 |    150366 |\n",
            "|         2 |      5464 |\n",
            "|         3 |     21111 |\n",
            "|         4 |     22804 |\n",
            "|         5 |       235 |\n",
            "|         6 |       555 |\n",
            "|         7 |       416 |\n",
            "|         8 |     12684 |\n",
            "|         9 |       680 |\n",
            "|        10 |       170 |\n",
            "|        11 |       694 |\n",
            "|        12 |      1692 |\n",
            "|        13 |       212 |\n",
            "|        14 |      1318 |\n",
            "|        15 |       403 |\n",
            "|        16 |        30 |\n",
            "|        17 |      2653 |\n",
            "|        18 |       617 |\n",
            "|        19 |        41 |\n",
            "|        20 |       430 |\n",
            "|        21 |       411 |\n",
            "|        22 |       633 |\n",
            "|        23 |     20077 |\n",
            "|        24 |     15679 |\n",
            "|        25 |       230 |\n",
            "|        26 |       101 |\n",
            "|        27 |      6166 |\n",
            "|        28 |       443 |\n",
            "|        29 |       178 |\n",
            "|        30 |      1976 |\n",
            "|        31 |     11336 |\n",
            "|        32 |       194 |\n",
            "|        33 |       463 |\n",
            "|        34 |      1431 |\n",
            "|        35 |      1457 |\n",
            "|        36 |        46 |\n",
            "|        37 |       108 |\n",
            "|        38 |       960 |\n",
            "|        39 |      1171 |\n",
            "|        40 |       196 |\n",
            "|        41 |       106 |\n",
            "|        42 |        88 |\n",
            "|        43 |       398 |\n",
            "|        44 |       260 |\n",
            "+-----------+-----------+\n",
            "\n",
            "Accuracy measures\n",
            "+-----------+-------------+-------------+-------------+\n",
            "|   Cluster |   Precision |      Recall |     F-Score |\n",
            "|-----------+-------------+-------------+-------------|\n",
            "|         0 |    0.618633 | 0.248552    | 0.354624    |\n",
            "|         1 |    0.995717 | 0.912433    | 0.952257    |\n",
            "|         2 |    1        | 0.0942053   | 0.172189    |\n",
            "|         3 |    0.968642 | 0.352563    | 0.516963    |\n",
            "|         4 |    0.522321 | 0.19658     | 0.285653    |\n",
            "|         5 |    0.974468 | 0.288413    | 0.445092    |\n",
            "|         6 |    0.736937 | 0.250459    | 0.373857    |\n",
            "|         7 |    0.995192 | 0.0068327   | 0.0135722   |\n",
            "|         8 |    1        | 0.209338    | 0.346203    |\n",
            "|         9 |    1        | 0.0112228   | 0.0221965   |\n",
            "|        10 |    0.705882 | 0.00198049  | 0.0039499   |\n",
            "|        11 |    0.389049 | 0.355731    | 0.371645    |\n",
            "|        12 |    0.667849 | 0.691978    | 0.679699    |\n",
            "|        13 |    0.353774 | 0.101902    | 0.158228    |\n",
            "|        14 |    0.624431 | 0.0135829   | 0.0265874   |\n",
            "|        15 |    0.305211 | 0.0281658   | 0.0515723   |\n",
            "|        16 |    0.733333 | 0.00036309  | 0.000725821 |\n",
            "|        17 |    0.950622 | 0.0416233   | 0.0797546   |\n",
            "|        18 |    0.824959 | 0.317728    | 0.458765    |\n",
            "|        19 |    0.707317 | 0.0382082   | 0.0725      |\n",
            "|        20 |    0.797674 | 0.00566091  | 0.011242    |\n",
            "|        21 |    0.749392 | 0.870056    | 0.805229    |\n",
            "|        22 |    0.987362 | 0.0103151   | 0.0204168   |\n",
            "|        23 |    1        | 0.346149    | 0.514281    |\n",
            "|        24 |    0.914663 | 0.0873966   | 0.159548    |\n",
            "|        25 |    0.965217 | 0.210826    | 0.346064    |\n",
            "|        26 |    0.871287 | 0.00145236  | 0.00289989  |\n",
            "|        27 |    1        | 0.101764    | 0.18473     |\n",
            "|        28 |    1        | 0.00731132  | 0.0145165   |\n",
            "|        29 |    0.460674 | 0.0502143   | 0.0905577   |\n",
            "|        30 |    1        | 0.0326121   | 0.0631643   |\n",
            "|        31 |    1        | 0.195445    | 0.326983    |\n",
            "|        32 |    0.613402 | 0.00196399  | 0.00391544  |\n",
            "|        33 |    1        | 0.00798262  | 0.0158388   |\n",
            "|        34 |    0.832285 | 0.0196564   | 0.0384057   |\n",
            "|        35 |    0.919012 | 0.022099    | 0.0431601   |\n",
            "|        36 |    0.804348 | 0.000610652 | 0.00122038  |\n",
            "|        37 |    0.712963 | 0.251634    | 0.371981    |\n",
            "|        38 |    0.91875  | 0.0145566   | 0.0286592   |\n",
            "|        39 |    0.93339  | 0.018039    | 0.0353939   |\n",
            "|        40 |    0.903061 | 0.00292123  | 0.00582361  |\n",
            "|        41 |    0.792453 | 1           | 0.884211    |\n",
            "|        42 |    0.375    | 0.031339    | 0.057844    |\n",
            "|        43 |    0.979899 | 0.0064366   | 0.0127892   |\n",
            "|        44 |    0.592308 | 0.00254163  | 0.00506154  |\n",
            "+-----------+-------------+-------------+-------------+\n",
            "\n",
            "F1-Score: 0.20955487694427602\n",
            "Clustering conditional entropy: 0.3440473137692984\n"
          ]
        }
      ]
    },
    {
      "cell_type": "markdown",
      "source": [
        "# Clustering Using Normalized cut"
      ],
      "metadata": {
        "id": "4qMR95q2dOW7"
      }
    },
    {
      "cell_type": "markdown",
      "source": [
        "## Using K-NN"
      ],
      "metadata": {
        "id": "Mbvm9m_yzaAo"
      }
    },
    {
      "cell_type": "code",
      "source": [
        "cluster(23, mode='spectral', nn = 10)"
      ],
      "metadata": {
        "id": "7wemkawz5RvN",
        "colab": {
          "base_uri": "https://localhost:8080/",
          "height": 1000
        },
        "outputId": "714f46e5-6117-4479-f688-32dbe708a04c"
      },
      "execution_count": 10,
      "outputs": [
        {
          "output_type": "stream",
          "name": "stdout",
          "text": [
            "K-Means at k = 23 after 0.41596150398254395s:\n",
            "\n"
          ]
        },
        {
          "output_type": "display_data",
          "data": {
            "text/plain": [
              "<Figure size 800x600 with 1 Axes>"
            ],
            "image/png": "[encoded data removed]"
          },
          "metadata": {}
        },
        {
          "output_type": "stream",
          "name": "stdout",
          "text": [
            "\n",
            "Clusters distribution\n",
            "+-----------+-----------+\n",
            "|   Cluster |   Samples |\n",
            "|-----------+-----------|\n",
            "|         0 |      4842 |\n",
            "|         1 |      3065 |\n",
            "|         2 |       656 |\n",
            "|         3 |       861 |\n",
            "|         4 |       265 |\n",
            "|         5 |       228 |\n",
            "|         6 |       895 |\n",
            "|         7 |        11 |\n",
            "|         8 |       144 |\n",
            "|         9 |       131 |\n",
            "|        10 |       319 |\n",
            "|        11 |        93 |\n",
            "|        12 |        64 |\n",
            "|        13 |       228 |\n",
            "|        14 |        60 |\n",
            "|        15 |        53 |\n",
            "|        16 |        49 |\n",
            "|        17 |        33 |\n",
            "|        18 |        44 |\n",
            "|        19 |        55 |\n",
            "|        20 |        32 |\n",
            "|        21 |        33 |\n",
            "|        22 |        85 |\n",
            "+-----------+-----------+\n",
            "\n",
            "Accuracy measures\n",
            "+-----------+-------------+------------+------------+\n",
            "|   Cluster |   Precision |     Recall |    F-Score |\n",
            "|-----------+-------------+------------+------------|\n",
            "|         0 |    1        | 0.689744   | 0.816388   |\n",
            "|         1 |    0.800326 | 0.915299   | 0.85396    |\n",
            "|         2 |    1        | 0.0934473  | 0.170922   |\n",
            "|         3 |    1        | 0.12265    | 0.2185     |\n",
            "|         4 |    0.837736 | 0.0912829  | 0.164627   |\n",
            "|         5 |    0.561404 | 0.0477612  | 0.088033   |\n",
            "|         6 |    1        | 0.36801    | 0.538022   |\n",
            "|         7 |    1        | 0.00156695 | 0.003129   |\n",
            "|         8 |    1        | 0.0592105  | 0.111801   |\n",
            "|         9 |    1        | 0.018661   | 0.0366382  |\n",
            "|        10 |    0.510972 | 0.0232194  | 0.0444202  |\n",
            "|        11 |    0.967742 | 0.0370066  | 0.0712871  |\n",
            "|        12 |    1        | 0.00911681 | 0.0180689  |\n",
            "|        13 |    0.561404 | 0.0526316  | 0.0962406  |\n",
            "|        14 |    1        | 0.0246711  | 0.0481541  |\n",
            "|        15 |    1        | 0.00754986 | 0.0149866  |\n",
            "|        16 |    0.979592 | 0.0197368  | 0.0386941  |\n",
            "|        17 |    1        | 0.00470085 | 0.00935772 |\n",
            "|        18 |    1        | 0.00626781 | 0.0124575  |\n",
            "|        19 |    1        | 0.00783476 | 0.0155477  |\n",
            "|        20 |    1        | 0.0045584  | 0.00907544 |\n",
            "|        21 |    1        | 0.00470085 | 0.00935772 |\n",
            "|        22 |    0.929412 | 0.0324836  | 0.0627731  |\n",
            "+-----------+-------------+------------+------------+\n",
            "\n",
            "F1-Score: 0.15010621319736822\n",
            "Clustering conditional entropy: 0.3053934771054379\n"
          ]
        }
      ]
    },
    {
      "cell_type": "markdown",
      "source": [
        "## Using RBF Kernel"
      ],
      "metadata": {
        "id": "csntiWmPzcyE"
      }
    },
    {
      "cell_type": "code",
      "source": [
        "cluster(23, mode='spectral', sim='rbf', gamma = 1.0)"
      ],
      "metadata": {
        "id": "OHYxIYsYzf0V",
        "colab": {
          "base_uri": "https://localhost:8080/",
          "height": 1000
        },
        "outputId": "60d73d55-ea9f-4fe5-bcbb-86f1329e9e79"
      },
      "execution_count": 13,
      "outputs": [
        {
          "output_type": "stream",
          "name": "stdout",
          "text": [
            "K-Means at k = 23 after 0.2575039863586426s:\n",
            "\n"
          ]
        },
        {
          "output_type": "display_data",
          "data": {
            "text/plain": [
              "<Figure size 800x600 with 1 Axes>"
            ],
            "image/png": "[encoded data removed]"
          },
          "metadata": {}
        },
        {
          "output_type": "stream",
          "name": "stdout",
          "text": [
            "\n",
            "Clusters distribution\n",
            "+-----------+-----------+\n",
            "|   Cluster |   Samples |\n",
            "|-----------+-----------|\n",
            "|         0 |      9811 |\n",
            "|         1 |       247 |\n",
            "|         2 |       230 |\n",
            "|         3 |       259 |\n",
            "|         4 |       215 |\n",
            "|         5 |       173 |\n",
            "|         6 |       117 |\n",
            "|         7 |       123 |\n",
            "|         8 |       162 |\n",
            "|         9 |       110 |\n",
            "|        10 |        96 |\n",
            "|        11 |       116 |\n",
            "|        12 |       116 |\n",
            "|        13 |        52 |\n",
            "|        14 |        56 |\n",
            "|        15 |        80 |\n",
            "|        16 |        53 |\n",
            "|        17 |        52 |\n",
            "|        18 |        23 |\n",
            "|        19 |        46 |\n",
            "|        20 |        44 |\n",
            "|        21 |        29 |\n",
            "|        22 |        36 |\n",
            "+-----------+-----------+\n",
            "\n",
            "Accuracy measures\n",
            "+-----------+-------------+------------+-----------+\n",
            "|   Cluster |   Precision |     Recall |   F-Score |\n",
            "|-----------+-------------+------------+-----------|\n",
            "|         0 |    0.713485 | 0.997151   | 0.831798  |\n",
            "|         1 |    0.910931 | 0.0839552  | 0.153741  |\n",
            "|         2 |    1        | 0.0858209  | 0.158076  |\n",
            "|         3 |    0.988417 | 0.0955224  | 0.174209  |\n",
            "|         4 |    0.990698 | 0.0794776  | 0.14715   |\n",
            "|         5 |    0.99422  | 0.0641791  | 0.120575  |\n",
            "|         6 |    1        | 0.0436567  | 0.0836611 |\n",
            "|         7 |    0.813008 | 0.0373134  | 0.0713521 |\n",
            "|         8 |    0.981481 | 0.0593284  | 0.111893  |\n",
            "|         9 |    0.954545 | 0.0391791  | 0.0752688 |\n",
            "|        10 |    0.989583 | 0.0354478  | 0.0684438 |\n",
            "|        11 |    0.991379 | 0.0429104  | 0.0822604 |\n",
            "|        12 |    0.991379 | 0.0429104  | 0.0822604 |\n",
            "|        13 |    1        | 0.019403   | 0.0380673 |\n",
            "|        14 |    0.964286 | 0.0201493  | 0.0394737 |\n",
            "|        15 |    0.975    | 0.0291045  | 0.0565217 |\n",
            "|        16 |    0.849057 | 0.016791   | 0.0329308 |\n",
            "|        17 |    1        | 0.019403   | 0.0380673 |\n",
            "|        18 |    0.956522 | 0.00820896 | 0.0162782 |\n",
            "|        19 |    0.891304 | 0.0152985  | 0.0300807 |\n",
            "|        20 |    0.931818 | 0.0152985  | 0.0301028 |\n",
            "|        21 |    0.586207 | 0.653846   | 0.618182  |\n",
            "|        22 |    0.972222 | 0.0130597  | 0.0257732 |\n",
            "+-----------+-------------+------------+-----------+\n",
            "\n",
            "F1-Score: 0.13418114695824782\n",
            "Clustering conditional entropy: 0.9214611259476233\n"
          ]
        }
      ]
    },
    {
      "cell_type": "markdown",
      "source": [
        "## New Clustering Algorithm <Clustering Techinque>"
      ],
      "metadata": {
        "id": "JOyDyIoiTDvo"
      }
    },
    {
      "cell_type": "code",
      "source": [
        "# DBSCAN Clustering\n",
        "dbscan = DBSCAN(eps=0.5, min_samples=5)\n",
        "dbscan.fit(train)\n",
        "labels_db = dbscan.labels_\n",
        "silhouette_db = silhouette_score(train, labels_db)\n",
        "print(\"Silhouette Score for DBSCAN Clustering:\", silhouette_db)"
      ],
      "metadata": {
        "trusted": true,
        "id": "TQsu9wBsTDvo"
      },
      "execution_count": null,
      "outputs": []
    }
  ]
}